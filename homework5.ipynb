{
 "metadata": {
  "anaconda-cloud": {},
  "kernelspec": {
   "display_name": "Python [default]",
   "language": "python",
   "name": "python2"
  },
  "language_info": {
   "codemirror_mode": {
    "name": "ipython",
    "version": 2
   },
   "file_extension": ".py",
   "mimetype": "text/x-python",
   "name": "python",
   "nbconvert_exporter": "python",
   "pygments_lexer": "ipython2",
   "version": "2.7.12"
  },
  "name": "",
  "signature": "sha256:40b8c24a394f17427d650a65d2f7a7a8d3ce2d41475948f3e104015ff31d63ad"
 },
 "nbformat": 3,
 "nbformat_minor": 0,
 "worksheets": [
  {
   "cells": [
    {
     "cell_type": "code",
     "collapsed": false,
     "input": [
      "import hyperopt\n",
      "import arff\n",
      "import pandas as pd\n",
      "import numpy as np"
     ],
     "language": "python",
     "metadata": {},
     "outputs": [
      {
       "ename": "ImportError",
       "evalue": "No module named pandas",
       "output_type": "pyerr",
       "traceback": [
        "\u001b[0;31m---------------------------------------------------------------------------\u001b[0m\n\u001b[0;31mImportError\u001b[0m                               Traceback (most recent call last)",
        "\u001b[0;32m<ipython-input-2-4b9d55911995>\u001b[0m in \u001b[0;36m<module>\u001b[0;34m()\u001b[0m\n\u001b[1;32m      1\u001b[0m \u001b[0;32mimport\u001b[0m \u001b[0mhyperopt\u001b[0m\u001b[0;34m\u001b[0m\u001b[0m\n\u001b[1;32m      2\u001b[0m \u001b[0;32mimport\u001b[0m \u001b[0marff\u001b[0m\u001b[0;34m\u001b[0m\u001b[0m\n\u001b[0;32m----> 3\u001b[0;31m \u001b[0;32mimport\u001b[0m \u001b[0mpandas\u001b[0m \u001b[0;32mas\u001b[0m \u001b[0mpd\u001b[0m\u001b[0;34m\u001b[0m\u001b[0m\n\u001b[0m\u001b[1;32m      4\u001b[0m \u001b[0;32mimport\u001b[0m \u001b[0mnumpy\u001b[0m \u001b[0;32mas\u001b[0m \u001b[0mnp\u001b[0m\u001b[0;34m\u001b[0m\u001b[0m\n",
        "\u001b[0;31mImportError\u001b[0m: No module named pandas"
       ]
      }
     ],
     "prompt_number": 2
    },
    {
     "cell_type": "code",
     "collapsed": false,
     "input": [
      "def split_data(X, y):\n",
      "    np.random.seed(42)\n",
      "    inds = np.random.permutation(np.arange(X.shape[0]))\n",
      "    i1, i2 = (np.array([2/8., 3./8]) * X.shape[0]).astype(int)\n",
      "    X_train, y_train = X[inds[:i1]], y[inds[:i1]]\n",
      "    X_val, y_val = X[inds[i1:i2]], y[inds[i1:i2]]\n",
      "    X_test, y_test = X[inds[i2:]], y[inds[i2:]]\n",
      "    return X_train, X_val, X_test, y_train, y_val, y_test"
     ],
     "language": "python",
     "metadata": {},
     "outputs": [],
     "prompt_number": 2
    },
    {
     "cell_type": "code",
     "collapsed": false,
     "input": [
      "from hyperopt import fmin, tpe\n",
      "from hyperopt import hp\n",
      "from sklearn.metrics import roc_auc_score, accuracy_score\n",
      "from sklearn.ensemble import RandomForestClassifier\n",
      "\n",
      "def evaluate_sklearn(X_train, X_val, X_test, y_train, y_val, y_test):\n",
      "    def create_sklearn_model(params):\n",
      "        return RandomForestClassifier(n_estimators=100, **{k:int(v) for k, v in params.items()})\n",
      "    space = {\n",
      "        'max_depth': hp.qloguniform('max_depth', 0, 6, 1),\n",
      "        'min_samples_split': hp.qloguniform('min_samples_split', 1, 6, 1),\n",
      "        'min_samples_leaf': hp.qloguniform('min_samples_leaf', 0, 6, 1),\n",
      "        'max_leaf_nodes': hp.qloguniform('max_leaf_nodes', 2, 10, 1),\n",
      "    }\n",
      "    best = fmin(lambda params: roc_auc_score(\n",
      "                    y_val,\n",
      "                    create_sklearn_model(params).fit(X_train, y_train).predict_log_proba(X_val)[:,1]),\n",
      "                space, algo=tpe.suggest, max_evals=5)\n",
      "    model = create_sklearn_model(best).fit(np.concatenate([X_train, X_val]), np.concatenate([y_train, y_val]))\n",
      "    return roc_auc_score(y_test, model.predict_log_proba(X_test)[:, 1])"
     ],
     "language": "python",
     "metadata": {},
     "outputs": [],
     "prompt_number": 3
    },
    {
     "cell_type": "code",
     "collapsed": false,
     "input": [
      "import lightgbm as lgb\n",
      "\n",
      "def evaluate_lgb(X_train, X_val, X_test, y_train, y_val, y_test):\n",
      "    train_data = lgb.Dataset(X_train, label=y_train)\n",
      "\n",
      "    space = {\n",
      "        'num_boost_round': hp.qloguniform('num_boost_round', 3, 6, 1),\n",
      "        'num_leaves': hp.qloguniform('num_leaves', 2, 10, 1),\n",
      "        'min_data_in_leaf': hp.qloguniform('min_data_in_leaf', 1, 6, 1),\n",
      "        'max_depth': hp.qloguniform('max_depth', 0, 6, 1),\n",
      "    }\n",
      "\n",
      "    def func(params):\n",
      "        params = {k:int(v) for k, v in params.items()}\n",
      "        num_boost_round = params.pop('num_boost_round')\n",
      "        model = lgb.train(params, train_data, num_boost_round)\n",
      "        return roc_auc_score(y_val, model.predict(X_val))\n",
      "\n",
      "    params = fmin(func, space, algo=tpe.suggest, max_evals=5)\n",
      "    params = {k:int(v) for k, v in params.items()}\n",
      "    num_boost_round = params.pop('num_boost_round')\n",
      "    model = lgb.train({k:int(v) for k, v in params.items()},\n",
      "                      lgb.Dataset(np.concatenate([X_train, X_val]),\n",
      "                                  label=np.concatenate([y_train, y_val])),\n",
      "                      num_boost_round)\n",
      "    return roc_auc_score(y_test, model.predict(X_test))\n"
     ],
     "language": "python",
     "metadata": {
      "scrolled": true
     },
     "outputs": [],
     "prompt_number": 4
    },
    {
     "cell_type": "code",
     "collapsed": true,
     "input": [],
     "language": "python",
     "metadata": {},
     "outputs": [],
     "prompt_number": null
    },
    {
     "cell_type": "code",
     "collapsed": true,
     "input": [],
     "language": "python",
     "metadata": {},
     "outputs": [],
     "prompt_number": null
    },
    {
     "cell_type": "code",
     "collapsed": true,
     "input": [
      "data = list(arff.load('/home/kass/Downloads/BayesianNetworkGenerator_tic-tac-toe.arff'))[1:]\n",
      "\n",
      "input_columns = [\n",
      "    'bottom-left-square',\n",
      "    'bottom-middle-square',\n",
      "    'bottom-right-square',\n",
      "    'middle-left-square',\n",
      "    'middle-middle-square',\n",
      "    'middle-right-square',\n",
      "    'top-left-square',\n",
      "    'top-middle-square',\n",
      "    'top-right-square',\n",
      "]\n",
      "target_column = 'Class'\n",
      "\n",
      "input_encoding = {'b': 0, 'x': 1, 'o': 2}\n",
      "target_encoding = {'negative': 0, 'positive': 1}\n",
      "\n",
      "X4 = np.array([[input_encoding[row._data[k]] for k in input_columns]\n",
      "             for row in data])\n",
      "y4 = np.array([target_encoding[row._data[target_column]] for row in data])"
     ],
     "language": "python",
     "metadata": {},
     "outputs": [],
     "prompt_number": 5
    },
    {
     "cell_type": "code",
     "collapsed": true,
     "input": [],
     "language": "python",
     "metadata": {},
     "outputs": [],
     "prompt_number": null
    },
    {
     "cell_type": "code",
     "collapsed": true,
     "input": [],
     "language": "python",
     "metadata": {},
     "outputs": [],
     "prompt_number": null
    },
    {
     "cell_type": "code",
     "collapsed": false,
     "input": [
      "data_tuple = split_data(X4, y4)\n",
      "print evaluate_sklearn(*data_tuple)\n",
      "print evaluate_lgb(*data_tuple)"
     ],
     "language": "python",
     "metadata": {},
     "outputs": [
      {
       "output_type": "stream",
       "stream": "stdout",
       "text": [
        "0.761789946379\n",
        "0.811586767622\n"
       ]
      }
     ],
     "prompt_number": 6
    },
    {
     "cell_type": "code",
     "collapsed": true,
     "input": [],
     "language": "python",
     "metadata": {},
     "outputs": [],
     "prompt_number": null
    },
    {
     "cell_type": "code",
     "collapsed": true,
     "input": [],
     "language": "python",
     "metadata": {},
     "outputs": [],
     "prompt_number": null
    },
    {
     "cell_type": "code",
     "collapsed": true,
     "input": [
      "\u0441 \u0438\u0441\u043f\u043e\u043b\u044c\u0437\u043e\u0432\u0430\u043d\u0438\u0435\u043c hyperopt (https://github.com/hyperopt/hyperopt/) \u0440\u0435\u0430\u043b\u0438\u0437\u043e\u0432\u0430\u0442\u044c \u0441\u0440\u0430\u0432\u043d\u0435\u043d\u0438\u0435 2 \u0430\u043b\u0433\u043e\u0440\u0438\u0442\u043c\u043e\u0432 \u043a\u043b\u0430\u0441\u0441\u0438\u0444\u0438\u043a\u0430\u0446\u0438\u0438\n",
      "\n",
      "    sklearn.ensemble.RandomForestClassifier https://github.com/scikit-learn/scikit-learn/blob/8d072fb/sklearn/ensemble/forest.py#L744\n",
      "    LightGBM (https://github.com/Microsoft/LightGBM)\n",
      "\n",
      "\u0434\u0430\u0442\u0430\u0441\u0435\u0442\u044b:\n",
      "\n",
      "    https://www.openml.org/d/1216\n",
      "    https://www.openml.org/d/1241\n",
      "    https://www.openml.org/d/4154\n",
      "    https://www.openml.org/d/137\n",
      "    https://www.openml.org/d/1178\n",
      "\n",
      "(\u043c\u043e\u0436\u043d\u043e \u043d\u0430 \u0441\u0432\u043e\u0435 \u0443\u0441\u043c\u043e\u0442\u0440\u0435\u043d\u0438\u0435 \u0432\u044b\u0431\u0440\u0430\u0442\u044c \u0434\u0440\u0443\u0433\u0438\u0435 \u0430\u043b\u0433\u043e\u0440\u0438\u0442\u043c\u044b \u0438 \u0434\u0430\u0442\u0430\u0441\u0435\u0442\u044b)\n",
      "\n",
      "\u0441\u0445\u0435\u043c\u0430 \u0441\u0440\u0430\u0432\u043d\u0435\u043d\u0438\u044f:\n",
      "\n",
      "    \u0434\u0435\u043b\u0438\u043c \u0434\u0430\u0442\u0430\u0441\u0435\u0442 \u043d\u0430 3 \u0447\u0430\u0441\u0442\u0438 X_train, X_val, X_test \u0432 \u043f\u0440\u043e\u043f\u043e\u0440\u0446\u0438\u044f\u0445 2:1:5\n",
      "    \u043f\u043e\u0434\u0431\u0438\u0440\u0430\u0435\u043c \u043e\u043f\u0442\u0438\u043c\u0430\u043b\u044c\u043d\u044b\u0435 \u043f\u0430\u0440\u0430\u043c\u0435\u0442\u0440\u044b \u043a\u043b\u0430\u0441\u0441\u0438\u0444\u0438\u043a\u0430\u0442\u043e\u0440\u0430 \u043d\u0430 X_train, \u0432\u044b\u0431\u0438\u0440\u0430\u0435\u043c \u0442\u0430\u043a\u043e\u0439 \u043d\u0430\u0431\u043e\u0440, \u043a\u043e\u0442\u043e\u0440\u044b\u0439 \u0434\u0430\u0435\u0442 \u043b\u0443\u0447\u0448\u0435\u0435 \u043a\u0430\u0447\u0435\u0441\u0442\u0432\u043e \u043d\u0430 X_val (\u0438\u0441\u043f\u043e\u043b\u044c\u0437\u0443\u0435\u043c hyperopt)\n",
      "    \u0441 \u044d\u0442\u0438\u043c \u043d\u0430\u0431\u043e\u0440\u043e\u043c \u043f\u0430\u0440\u0430\u043c\u0435\u0442\u0440\u043e\u0432 \u043e\u0431\u0443\u0447\u0430\u0435\u043c \u043d\u0430 X_train + X_val \u0438 \u043f\u0440\u0438\u043c\u0435\u043d\u044f\u0435\u043c \u043a X_test - \u043a\u0430\u0447\u0435\u0441\u0442\u0432\u043e (ROC_AUC \u0441\u043e\u0445\u0440\u0430\u043d\u044f\u0435\u043c \u0432 \u0442\u0430\u0431\u043b\u0438\u0447\u043a\u0443)\n",
      "    \u043f\u043e\u0432\u0442\u043e\u0440\u044f\u0435\u043c \u0434\u043b\u044f \u0432\u0441\u0435\u0445 \u0434\u0430\u0442\u0430\u0441\u0435\u0442\u043e\u0432 \u0438 \u0432\u0441\u0435\u0445 \u043a\u043b\u0430\u0441\u0441\u0438\u0444\u0438\u043a\u0430\u0442\u043e\u0440\u043e\u0432\n",
      "    \u0432 \u043a\u043e\u043d\u0446\u0435 \u0443\u043f\u0440\u0430\u0436\u043d\u0435\u043d\u0438\u044f \u0434\u043b\u044f \u043a\u0430\u0436\u0434\u043e\u0433\u043e \u043a\u043b\u0430\u0441\u0441\u0438\u0444\u0438\u043a\u0430\u0442\u043e\u0440\u0430 \u043f\u043e\u043b\u0443\u0447\u0430\u0435\u043c \u043d\u0430\u0431\u043e\u0440 \u0437\u043d\u0430\u0447\u0435\u043d\u0438\u0439 ROC_AUC (5 \u0448\u0442\u0443\u043a), \u043a\u043e\u0442\u043e\u0440\u044b\u0439 \u0440\u0438\u0441\u0443\u0435\u043c \u043d\u0430 \u0433\u0440\u0430\u0444\u0438\u043a\u0435 - \u0430-\u043b\u044f (https://github.com/openml/study_example/blob/master/StudyTest.ipynb)\n",
      "    \u0432\u0435\u0441\u044c \u043a\u043e\u0434 + \u0442\u0435\u0442\u0440\u0430\u0434\u043a\u0438 \u0441\u043e\u0445\u0440\u0430\u043d\u0438\u0442\u044c \u0432 \u0432\u0438\u0434\u0435 \u0440\u0435\u043f\u043e\u0437\u0438\u0442\u043e\u0440\u0438\u044f \u043d\u0430 github, \u043a\u043e\u0442\u043e\u0440\u044b\u0439 \u0437\u0430\u043f\u0443\u0441\u043a\u0430\u0435\u0442\u0441\u044f \u0441 \u043f\u043e\u043c\u043e\u0449\u044c\u044e everware\n"
     ],
     "language": "python",
     "metadata": {},
     "outputs": [],
     "prompt_number": null
    }
   ],
   "metadata": {}
  }
 ]
}
